{
 "cells": [
  {
   "cell_type": "code",
   "execution_count": 2,
   "id": "0be9fb82-9b9c-4eb8-bd12-44aee0215ed1",
   "metadata": {},
   "outputs": [
    {
     "name": "stderr",
     "output_type": "stream",
     "text": [
      "2024-12-27 12:30:22.615086: I tensorflow/core/util/port.cc:153] oneDNN custom operations are on. You may see slightly different numerical results due to floating-point round-off errors from different computation orders. To turn them off, set the environment variable `TF_ENABLE_ONEDNN_OPTS=0`.\n",
      "2024-12-27 12:30:22.651069: E external/local_xla/xla/stream_executor/cuda/cuda_fft.cc:477] Unable to register cuFFT factory: Attempting to register factory for plugin cuFFT when one has already been registered\n",
      "WARNING: All log messages before absl::InitializeLog() is called are written to STDERR\n",
      "E0000 00:00:1735302622.663689 1151957 cuda_dnn.cc:8310] Unable to register cuDNN factory: Attempting to register factory for plugin cuDNN when one has already been registered\n",
      "E0000 00:00:1735302622.667995 1151957 cuda_blas.cc:1418] Unable to register cuBLAS factory: Attempting to register factory for plugin cuBLAS when one has already been registered\n",
      "2024-12-27 12:30:22.729287: I tensorflow/core/platform/cpu_feature_guard.cc:210] This TensorFlow binary is optimized to use available CPU instructions in performance-critical operations.\n",
      "To enable the following instructions: AVX2 AVX512F AVX512_VNNI FMA, in other operations, rebuild TensorFlow with the appropriate compiler flags.\n"
     ]
    }
   ],
   "source": [
    "import gymnasium as gym\n",
    "import os\n",
    "\n",
    "from gymnasium import wrappers\n",
    "from stable_baselines3 import PPO"
   ]
  },
  {
   "cell_type": "code",
   "execution_count": 3,
   "id": "5ea56f6a-916d-420b-9456-8d1544e8b91f",
   "metadata": {},
   "outputs": [
    {
     "name": "stdout",
     "output_type": "stream",
     "text": [
      "Using cpu device\n",
      "Wrapping the env with a `Monitor` wrapper\n",
      "Wrapping the env in a DummyVecEnv.\n"
     ]
    }
   ],
   "source": [
    "env = gym.make(\"CartPole-v1\", render_mode='rgb_array')\n",
    "\n",
    "model = PPO(\"MlpPolicy\", env, verbose=1)\n",
    "# model.learn(total_timesteps=10_000)"
   ]
  },
  {
   "cell_type": "code",
   "execution_count": 4,
   "id": "c59ae698-8a21-41a2-b44e-f688be5ef279",
   "metadata": {},
   "outputs": [
    {
     "name": "stderr",
     "output_type": "stream",
     "text": [
      "/home/anujkhare/miniconda3/envs/foo1/lib/python3.12/site-packages/gymnasium/wrappers/rendering.py:283: UserWarning: \u001b[33mWARN: Overwriting existing videos at /home/anujkhare/code/splendor-ai/save_videos2 folder (try specifying a different `video_folder` for the `RecordVideo` wrapper if this is not desired)\u001b[0m\n",
      "  logger.warn(\n"
     ]
    }
   ],
   "source": [
    "trigger = lambda _: True\n",
    "env = wrappers.RecordVideo(env, video_folder=\"./save_videos2\", episode_trigger=trigger, disable_logger=True, video_length=1000)\n",
    "env = wrappers.RecordEpisodeStatistics(env)"
   ]
  },
  {
   "cell_type": "code",
   "execution_count": 5,
   "id": "2e4d2bbf-71f7-491d-985e-533b527bef47",
   "metadata": {},
   "outputs": [],
   "source": [
    "episode_over = False\n",
    "obs, _ = env.reset()\n",
    "while not episode_over:\n",
    "    action, _ = model.predict(obs, deterministic=True)\n",
    "    obs, reward, termination, truncation, info = env.step(action)\n",
    "\n",
    "    episode_over = termination or truncation"
   ]
  },
  {
   "cell_type": "code",
   "execution_count": 6,
   "id": "a6748e5e-6f3e-41fb-b66c-9eaf29adb522",
   "metadata": {},
   "outputs": [
    {
     "data": {
      "text/plain": [
       "['rl-video-episode-0.mp4']"
      ]
     },
     "execution_count": 6,
     "metadata": {},
     "output_type": "execute_result"
    }
   ],
   "source": [
    "sorted(os.listdir(\"./save_videos2\"))"
   ]
  },
  {
   "cell_type": "code",
   "execution_count": 7,
   "id": "6234f72d-27ff-4d99-a0f4-fc2c1af8b0e0",
   "metadata": {},
   "outputs": [
    {
     "data": {
      "text/plain": [
       "True"
      ]
     },
     "execution_count": 7,
     "metadata": {},
     "output_type": "execute_result"
    }
   ],
   "source": [
    "termination"
   ]
  },
  {
   "cell_type": "code",
   "execution_count": 8,
   "id": "76054471-cb94-4bf5-8b2c-9727a8df2c17",
   "metadata": {},
   "outputs": [
    {
     "data": {
      "text/plain": [
       "{'episode': {'r': 9.0, 'l': 9, 't': 0.01724}}"
      ]
     },
     "execution_count": 8,
     "metadata": {},
     "output_type": "execute_result"
    }
   ],
   "source": [
    "info"
   ]
  }
 ],
 "metadata": {
  "kernelspec": {
   "display_name": "Python 3 (ipykernel)",
   "language": "python",
   "name": "python3"
  },
  "language_info": {
   "codemirror_mode": {
    "name": "ipython",
    "version": 3
   },
   "file_extension": ".py",
   "mimetype": "text/x-python",
   "name": "python",
   "nbconvert_exporter": "python",
   "pygments_lexer": "ipython3",
   "version": "3.12.7"
  }
 },
 "nbformat": 4,
 "nbformat_minor": 5
}
