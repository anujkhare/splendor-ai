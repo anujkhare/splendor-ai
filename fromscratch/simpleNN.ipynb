{
 "cells": [
  {
   "cell_type": "code",
   "execution_count": null,
   "id": "6f8361c9-e0de-46cb-98d5-88388775127f",
   "metadata": {},
   "outputs": [],
   "source": [
    "# From\n",
    "# https://github.com/patrick-kidger/equinox/blob/main/examples/mnist.ipynb\n",
    "# https://jax.readthedocs.io/en/latest/notebooks/Neural_Network_and_Data_Loading.html"
   ]
  },
  {
   "cell_type": "code",
   "execution_count": 103,
   "id": "6c1e190e-b66d-472f-9efd-6c7035b3cff4",
   "metadata": {},
   "outputs": [],
   "source": [
    "from torch.utils.data import Dataset\n",
    "from torchvision import datasets\n",
    "from torchvision import transforms\n",
    "\n",
    "import jax\n",
    "import jax.numpy as jnp\n",
    "import matplotlib.pyplot as plt\n",
    "import numpy as np"
   ]
  },
  {
   "cell_type": "code",
   "execution_count": 104,
   "id": "821c444e-9946-4921-aa3d-7048f974f35e",
   "metadata": {},
   "outputs": [],
   "source": [
    "#@title Create a dataloader\n",
    "# From https://jax.readthedocs.io/en/latest/notebooks/Neural_Network_and_Data_Loading.html\n",
    "import numpy as np\n",
    "from jax.tree_util import tree_map\n",
    "from torch.utils import data\n",
    "from torchvision.datasets import MNIST\n",
    "\n",
    "def numpy_collate(batch):\n",
    "  return tree_map(np.asarray, data.default_collate(batch))\n",
    "\n",
    "class NumpyLoader(data.DataLoader):\n",
    "  def __init__(self, dataset, batch_size=1,\n",
    "                shuffle=False, sampler=None,\n",
    "                batch_sampler=None, num_workers=0,\n",
    "                pin_memory=False, drop_last=False,\n",
    "                timeout=0, worker_init_fn=None):\n",
    "    super(self.__class__, self).__init__(dataset,\n",
    "        batch_size=batch_size,\n",
    "        shuffle=shuffle,\n",
    "        sampler=sampler,\n",
    "        batch_sampler=batch_sampler,\n",
    "        num_workers=num_workers,\n",
    "        collate_fn=numpy_collate,\n",
    "        pin_memory=pin_memory,\n",
    "        drop_last=drop_last,\n",
    "        timeout=timeout,\n",
    "        worker_init_fn=worker_init_fn)\n",
    "\n",
    "class FlattenAndCast(object):\n",
    "  def __call__(self, pic):\n",
    "    return np.ravel(np.array(pic, dtype=jnp.float32))"
   ]
  },
  {
   "cell_type": "code",
   "execution_count": 105,
   "id": "ec50b6dc-e675-495a-b82e-c126886d9d3f",
   "metadata": {},
   "outputs": [],
   "source": [
    "#@title Download the dataset\n",
    "train_data = datasets.MNIST(\n",
    "    root=\"~/data\", train=True, download=True, transform=FlattenAndCast())\n",
    "test_data = datasets.MNIST(\n",
    "    root=\"~/data\", train=False, download=True, transform=FlattenAndCast())"
   ]
  },
  {
   "cell_type": "code",
   "execution_count": 108,
   "id": "9b5a9150-11df-4087-9476-673d0aac4cf7",
   "metadata": {},
   "outputs": [
    {
     "data": {
      "image/png": "[encoded data removed]",
      "text/plain": [
       "<Figure size 800x800 with 9 Axes>"
      ]
     },
     "metadata": {},
     "output_type": "display_data"
    }
   ],
   "source": [
    "#@title Visualize the data\n",
    "figure = plt.figure(figsize=(8, 8))\n",
    "cols, rows = 3, 3\n",
    "for i in range(1, cols * rows + 1):\n",
    "    sample_idx = np.random.randint(len(train_data), size=(1,)).item()\n",
    "    img, label = train_data[sample_idx]\n",
    "    img = img.reshape(28, 28)\n",
    "    figure.add_subplot(rows, cols, i)\n",
    "    plt.title(label)\n",
    "    plt.axis(\"off\")\n",
    "    plt.imshow(img.squeeze(), cmap=\"gray\")\n",
    "plt.show()"
   ]
  },
  {
   "cell_type": "code",
   "execution_count": 109,
   "id": "274fed8b-fa79-426b-8b82-15a7a8b2b517",
   "metadata": {},
   "outputs": [],
   "source": [
    "train_dataloader = NumpyLoader(train_data, batch_size=64, shuffle=True)\n",
    "test_dataloader = NumpyLoader(test_data, batch_size=64, shuffle=True)"
   ]
  },
  {
   "cell_type": "code",
   "execution_count": 110,
   "id": "b8028856-318d-40d9-b721-79902b4b1c2e",
   "metadata": {},
   "outputs": [
    {
     "name": "stdout",
     "output_type": "stream",
     "text": [
      "(64, 784) (64,)\n"
     ]
    }
   ],
   "source": [
    "x, y = next(iter(train_dataloader))\n",
    "print(x.shape, y.shape)"
   ]
  },
  {
   "cell_type": "code",
   "execution_count": 156,
   "id": "fee23fa6-285c-47c5-9647-9f61bf53e58b",
   "metadata": {},
   "outputs": [],
   "source": [
    "#@title Define the model\n",
    "import equinox as eqx\n",
    "import jax\n",
    "\n",
    "class MLP(eqx.Module):\n",
    "    layers: list\n",
    "\n",
    "    def __init__(self, in_size: int, hidden_dims: list[int], key):\n",
    "        self.layers = []\n",
    "        prev_dim = in_size\n",
    "        for dim in hidden_dims:\n",
    "            key, layer_key = jax.random.split(key)\n",
    "            self.layers.append(\n",
    "                eqx.nn.Linear(\n",
    "                    in_features=prev_dim,\n",
    "                    out_features=dim,\n",
    "                    use_bias=True,\n",
    "                    key=layer_key\n",
    "                )\n",
    "            )\n",
    "            prev_dim = dim\n",
    "\n",
    "    def __call__(self, x):\n",
    "        for layer in self.layers:\n",
    "            x = layer(x)\n",
    "            x = jax.nn.relu(x)\n",
    "        # return log probs (log(softmax(x))\n",
    "        return x - jax.scipy.special.logsumexp(x)"
   ]
  },
  {
   "cell_type": "code",
   "execution_count": 157,
   "id": "5d51e9ed-7fc1-40f3-ae40-81095418724b",
   "metadata": {},
   "outputs": [],
   "source": [
    "model = MLP(\n",
    "    in_size=784,\n",
    "    hidden_dims=[784, 512, 10],\n",
    "    key = jax.random.PRNGKey(1235)\n",
    ")"
   ]
  },
  {
   "cell_type": "code",
   "execution_count": 138,
   "id": "279d0d7b-e6cc-4ba8-b91a-f617b8200821",
   "metadata": {},
   "outputs": [],
   "source": [
    "def one_hot(y, n_classes, dtype=jnp.float32):\n",
    "    return jnp.array(jnp.arange(n_classes) == y[:, None], dtype=dtype)"
   ]
  },
  {
   "cell_type": "code",
   "execution_count": 216,
   "id": "33a85e86-ad8e-4148-94f4-aac12180e55e",
   "metadata": {},
   "outputs": [],
   "source": [
    "@eqx.filter_jit\n",
    "def accuracy(model, x, y_one_hot):\n",
    "    targets = jnp.argmax(y_one_hot, axis=1)\n",
    "    preds = jnp.argmax(jax.vmap(model)(x), axis=1)\n",
    "    return jnp.mean(preds == targets)"
   ]
  },
  {
   "cell_type": "code",
   "execution_count": 217,
   "id": "29909d92-3878-4532-9e8f-10be54b4c2ab",
   "metadata": {},
   "outputs": [],
   "source": [
    "@eqx.filter_jit\n",
    "def loss(model, x, y_one_hot):\n",
    "    log_probs = jax.vmap(model)(x)\n",
    "    return -jnp.mean(jnp.sum(log_probs * y_one_hot, axis=1))"
   ]
  },
  {
   "cell_type": "code",
   "execution_count": 218,
   "id": "7b2f48f9-c89b-41d3-bfd8-f4c5cb1accec",
   "metadata": {},
   "outputs": [
    {
     "data": {
      "text/plain": [
       "Array(0.015625, dtype=float32)"
      ]
     },
     "execution_count": 218,
     "metadata": {},
     "output_type": "execute_result"
    }
   ],
   "source": [
    "accuracy(model, x, one_hot(y, 10))"
   ]
  },
  {
   "cell_type": "code",
   "execution_count": 219,
   "id": "b90e9487-831e-47b5-85f7-8c8126c36dd5",
   "metadata": {},
   "outputs": [
    {
     "data": {
      "text/plain": [
       "Array(9.541049, dtype=float32)"
      ]
     },
     "execution_count": 219,
     "metadata": {},
     "output_type": "execute_result"
    }
   ],
   "source": [
    "loss(model, x, one_hot(y, 10))"
   ]
  },
  {
   "cell_type": "code",
   "execution_count": 220,
   "id": "e2136ed0-6344-47fb-8185-803afa521e00",
   "metadata": {},
   "outputs": [
    {
     "data": {
      "text/plain": [
       "(Array(9.541049, dtype=float32),\n",
       " MLP(\n",
       "   layers=[\n",
       "     Linear(\n",
       "       weight=f32[784,784],\n",
       "       bias=f32[784],\n",
       "       in_features=784,\n",
       "       out_features=784,\n",
       "       use_bias=True\n",
       "     ),\n",
       "     Linear(\n",
       "       weight=f32[512,784],\n",
       "       bias=f32[512],\n",
       "       in_features=784,\n",
       "       out_features=512,\n",
       "       use_bias=True\n",
       "     ),\n",
       "     Linear(\n",
       "       weight=f32[10,512],\n",
       "       bias=f32[10],\n",
       "       in_features=512,\n",
       "       out_features=10,\n",
       "       use_bias=True\n",
       "     )\n",
       "   ]\n",
       " ))"
      ]
     },
     "execution_count": 220,
     "metadata": {},
     "output_type": "execute_result"
    }
   ],
   "source": [
    "jax.value_and_grad(loss)(model, x, one_hot(y, 10))"
   ]
  },
  {
   "cell_type": "code",
   "execution_count": 256,
   "id": "8f04dda4-196d-49af-a2e8-9ec72ee33f06",
   "metadata": {},
   "outputs": [],
   "source": [
    "def evaluate(model, testloader, batches=None):\n",
    "    avg_loss = 0\n",
    "    avg_acc = 0\n",
    "    for ix, (x, y) in enumerate(testloader):\n",
    "        if batches and ix >= batches:\n",
    "            break\n",
    "        ix += 1\n",
    "        y = one_hot(y, 10)\n",
    "        avg_loss += loss(model, x, y)\n",
    "        avg_acc += accuracy(model, x, y)\n",
    "    return avg_loss / ix, avg_acc / ix"
   ]
  },
  {
   "cell_type": "code",
   "execution_count": 231,
   "id": "991bf8cf-3dc8-4598-9164-ccfadc29b17d",
   "metadata": {},
   "outputs": [],
   "source": [
    "import jaxtyping\n",
    "\n",
    "@eqx.filter_jit\n",
    "def train_step(\n",
    "    model: MLP,\n",
    "    x: jaxtyping.Float[jaxtyping.Array, \"batch 784\"],\n",
    "    y: jaxtyping.Int[jaxtyping.Array, \"batch 10\"],\n",
    "    opt_state: jaxtyping.PyTree,\n",
    "    optim,\n",
    "):\n",
    "    loss_value, grads = eqx.filter_value_and_grad(loss)(model, x, y)\n",
    "    updates, opt_state = optim.update(\n",
    "        grads, opt_state, eqx.filter(model, eqx.is_array))\n",
    "    model = eqx.apply_updates(model, updates)\n",
    "    return model, opt_state, loss_value"
   ]
  },
  {
   "cell_type": "code",
   "execution_count": 247,
   "id": "c6c4d678-404f-4b7a-9e72-19a50c42734f",
   "metadata": {},
   "outputs": [],
   "source": [
    "def infinite_dataloader():\n",
    "    while True:\n",
    "        yield from train_dataloader"
   ]
  },
  {
   "cell_type": "code",
   "execution_count": 274,
   "id": "461d2a33-77ed-44f2-967a-9f8727aea98f",
   "metadata": {},
   "outputs": [],
   "source": [
    "import time\n",
    "import optax\n",
    "LEARNING_RATE = 3e-4\n",
    "STEPS = (len(train_data.data) // 64) * 5\n",
    "PRINT_EVERY = 100\n",
    "SEED = 5678\n",
    "\n",
    "EVAL_BATCHES = 128\n"
   ]
  },
  {
   "cell_type": "code",
   "execution_count": null,
   "id": "82d32b6e-fede-47c6-8c9e-0605fdd92f97",
   "metadata": {},
   "outputs": [],
   "source": [
    "def train(\n",
    "    model: MLP,\n",
    "    optim,\n",
    "    test_dataloader,\n",
    "    opt_state = None\n",
    "):\n",
    "    if opt_state is None:\n",
    "        opt_state = optim.init(eqx.filter(model, eqx.is_array))\n",
    "    \n",
    "    start_time = time.time()\n",
    "    for step, (x, y) in enumerate(infinite_dataloader()):\n",
    "        if step > STEPS:\n",
    "            break\n",
    "        y_one_hot = one_hot(y, 10)\n",
    "        model, opt_state, train_loss = train_step(\n",
    "            model,\n",
    "            x,\n",
    "            one_hot(y, 10),\n",
    "            opt_state,\n",
    "            optim\n",
    "        )\n",
    "        if (step % PRINT_EVERY) == 0 or (step == STEPS - 1):\n",
    "            end_time = time.time()\n",
    "            test_loss, test_acc = evaluate(model, test_dataloader, EVAL_BATCHES)\n",
    "            print(\n",
    "                f\"step={step}, time={end_time-start_time:0.2f}s train_loss={train_loss.item()}, \"\n",
    "                f\"test_loss={test_loss.item()}, test_accuracy={test_acc.item()}\"\n",
    "            )\n",
    "            start_time = end_time\n",
    "    return model, opt_state"
   ]
  },
  {
   "cell_type": "code",
   "execution_count": 291,
   "id": "4e0ff5a7-5ac4-4759-81ad-3c6365894937",
   "metadata": {},
   "outputs": [],
   "source": [
    "model = MLP(\n",
    "    in_size=784,\n",
    "    hidden_dims=[512, 512, 10],\n",
    "    key = jax.random.PRNGKey(1235)\n",
    ")"
   ]
  },
  {
   "cell_type": "code",
   "execution_count": 292,
   "id": "b12cab2d-f799-49cd-b3e3-e7d49705cc74",
   "metadata": {},
   "outputs": [
    {
     "name": "stdout",
     "output_type": "stream",
     "text": [
      "step=0, time=0.16s train_loss=9.193140983581543, test_loss=6.930211544036865, test_accuracy=0.2166748046875\n",
      "step=100, time=0.97s train_loss=1.2780978679656982, test_loss=1.2031207084655762, test_accuracy=0.5367431640625\n",
      "step=200, time=0.96s train_loss=1.394099473953247, test_loss=1.157686471939087, test_accuracy=0.5615234375\n",
      "step=300, time=0.95s train_loss=0.98225337266922, test_loss=1.0242713689804077, test_accuracy=0.616455078125\n",
      "step=400, time=0.97s train_loss=0.7440332770347595, test_loss=0.6099552512168884, test_accuracy=0.793701171875\n",
      "step=500, time=0.96s train_loss=0.5622569918632507, test_loss=0.4766593277454376, test_accuracy=0.8402099609375\n",
      "step=600, time=0.96s train_loss=0.3962523341178894, test_loss=0.43783050775527954, test_accuracy=0.8494873046875\n",
      "step=700, time=0.97s train_loss=0.5509545207023621, test_loss=0.4634822905063629, test_accuracy=0.8411865234375\n",
      "step=800, time=0.96s train_loss=0.38968390226364136, test_loss=0.4283052682876587, test_accuracy=0.8555908203125\n",
      "step=900, time=0.97s train_loss=0.27107417583465576, test_loss=0.3891727030277252, test_accuracy=0.8612060546875\n",
      "step=1000, time=1.23s train_loss=0.42124488949775696, test_loss=0.37957218289375305, test_accuracy=0.864501953125\n",
      "step=1100, time=0.96s train_loss=0.4386734962463379, test_loss=0.38796913623809814, test_accuracy=0.8616943359375\n",
      "step=1200, time=0.95s train_loss=0.2837870419025421, test_loss=0.36684122681617737, test_accuracy=0.8673095703125\n",
      "step=1300, time=0.97s train_loss=0.22540347278118134, test_loss=0.3635655641555786, test_accuracy=0.865234375\n",
      "step=1400, time=0.97s train_loss=0.4106232523918152, test_loss=0.399073988199234, test_accuracy=0.8570556640625\n",
      "step=1500, time=0.96s train_loss=0.33796757459640503, test_loss=0.35322436690330505, test_accuracy=0.8709716796875\n",
      "step=1600, time=0.97s train_loss=0.4692643880844116, test_loss=0.35164278745651245, test_accuracy=0.8702392578125\n",
      "step=1700, time=0.97s train_loss=0.20796149969100952, test_loss=0.354585200548172, test_accuracy=0.869384765625\n",
      "step=1800, time=0.97s train_loss=0.5424007177352905, test_loss=0.3375821113586426, test_accuracy=0.8736572265625\n",
      "step=1900, time=0.97s train_loss=0.37571942806243896, test_loss=0.3644806444644928, test_accuracy=0.867431640625\n",
      "step=2000, time=0.97s train_loss=0.4433218240737915, test_loss=0.33636659383773804, test_accuracy=0.8765869140625\n",
      "step=2100, time=0.97s train_loss=0.40763381123542786, test_loss=0.33630770444869995, test_accuracy=0.87255859375\n",
      "step=2200, time=0.96s train_loss=0.15663249790668488, test_loss=0.34060966968536377, test_accuracy=0.8741455078125\n",
      "step=2300, time=0.97s train_loss=0.2739403247833252, test_loss=0.34060612320899963, test_accuracy=0.8734130859375\n",
      "step=2400, time=0.96s train_loss=0.10051152110099792, test_loss=0.3448914587497711, test_accuracy=0.8712158203125\n",
      "step=2500, time=0.96s train_loss=0.19850552082061768, test_loss=0.3323999047279358, test_accuracy=0.8753662109375\n",
      "step=2600, time=1.00s train_loss=0.40377354621887207, test_loss=0.338691383600235, test_accuracy=0.8736572265625\n",
      "step=2700, time=0.99s train_loss=0.5071483850479126, test_loss=0.32331082224845886, test_accuracy=0.8759765625\n",
      "step=2800, time=0.97s train_loss=0.21886008977890015, test_loss=0.3223033547401428, test_accuracy=0.8782958984375\n",
      "step=2900, time=0.97s train_loss=0.39613670110702515, test_loss=0.3384550213813782, test_accuracy=0.8748779296875\n",
      "step=3000, time=0.97s train_loss=0.31119686365127563, test_loss=0.31836459040641785, test_accuracy=0.878173828125\n",
      "step=3100, time=0.96s train_loss=0.25874918699264526, test_loss=0.31864747405052185, test_accuracy=0.8773193359375\n",
      "step=3200, time=0.97s train_loss=0.4026535749435425, test_loss=0.31859639286994934, test_accuracy=0.880859375\n",
      "step=3300, time=0.97s train_loss=0.25318294763565063, test_loss=0.3224133551120758, test_accuracy=0.877197265625\n",
      "step=3400, time=0.97s train_loss=0.3217216432094574, test_loss=0.3340733051300049, test_accuracy=0.873291015625\n",
      "step=3500, time=0.96s train_loss=0.23069028556346893, test_loss=0.3177828788757324, test_accuracy=0.8822021484375\n",
      "step=3600, time=0.96s train_loss=0.4742140471935272, test_loss=0.14206330478191376, test_accuracy=0.96484375\n",
      "step=3700, time=0.96s train_loss=0.037491872906684875, test_loss=0.12789829075336456, test_accuracy=0.9671630859375\n",
      "step=3800, time=0.98s train_loss=0.08762162923812866, test_loss=0.1254647970199585, test_accuracy=0.968994140625\n",
      "step=3900, time=0.96s train_loss=0.046215154230594635, test_loss=0.12372229248285294, test_accuracy=0.9681396484375\n",
      "step=4000, time=0.97s train_loss=0.04023151844739914, test_loss=0.13660456240177155, test_accuracy=0.9647216796875\n",
      "step=4100, time=0.97s train_loss=0.1572813242673874, test_loss=0.14101678133010864, test_accuracy=0.965087890625\n",
      "step=4200, time=0.96s train_loss=0.03829137980937958, test_loss=0.10637225210666656, test_accuracy=0.9744873046875\n",
      "step=4300, time=0.96s train_loss=0.03896556794643402, test_loss=0.11588351428508759, test_accuracy=0.9716796875\n",
      "step=4400, time=0.97s train_loss=0.08172963559627533, test_loss=0.13392750918865204, test_accuracy=0.9681396484375\n",
      "step=4500, time=0.97s train_loss=0.002593323588371277, test_loss=0.13548220694065094, test_accuracy=0.964599609375\n",
      "step=4600, time=0.96s train_loss=0.15882200002670288, test_loss=0.12124588340520859, test_accuracy=0.9703369140625\n",
      "step=4684, time=0.89s train_loss=0.014224246144294739, test_loss=0.11951377987861633, test_accuracy=0.9700927734375\n"
     ]
    }
   ],
   "source": [
    "optim = optax.adamw(LEARNING_RATE)\n",
    "model, _= train(\n",
    "    model,\n",
    "    optim,\n",
    "    train_dataloader,\n",
    "    test_dataloader\n",
    ")"
   ]
  },
  {
   "cell_type": "code",
   "execution_count": 294,
   "id": "d9f8927b-ffcf-4128-9fb2-62318eaa8760",
   "metadata": {},
   "outputs": [
    {
     "data": {
      "text/plain": [
       "(Array(0.11711785, dtype=float32), Array(0.9697452, dtype=float32))"
      ]
     },
     "execution_count": 294,
     "metadata": {},
     "output_type": "execute_result"
    }
   ],
   "source": [
    "# full test set\n",
    "evaluate(model, test_dataloader, None)"
   ]
  }
 ],
 "metadata": {
  "kernelspec": {
   "display_name": "Python 3 (ipykernel)",
   "language": "python",
   "name": "python3"
  },
  "language_info": {
   "codemirror_mode": {
    "name": "ipython",
    "version": 3
   },
   "file_extension": ".py",
   "mimetype": "text/x-python",
   "name": "python",
   "nbconvert_exporter": "python",
   "pygments_lexer": "ipython3",
   "version": "3.12.7"
  }
 },
 "nbformat": 4,
 "nbformat_minor": 5
}
